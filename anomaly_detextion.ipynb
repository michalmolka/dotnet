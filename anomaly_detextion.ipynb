{
 "cells": [
  {
   "cell_type": "code",
   "execution_count": 1,
   "metadata": {
    "polyglot_notebook": {
     "kernelName": "csharp"
    },
    "vscode": {
     "languageId": "polyglot-notebook"
    }
   },
   "outputs": [
    {
     "data": {
      "text/html": [
       "<div><div></div><div></div><div><strong>Installed Packages</strong><ul><li><span>Microsoft.ML, 4.0.2</span></li><li><span>Microsoft.ML.TimeSeries, 4.0.2</span></li></ul></div></div>"
      ]
     },
     "metadata": {},
     "output_type": "display_data"
    }
   ],
   "source": [
    "#r \"nuget:Microsoft.ML\"\n",
    "#r \"nuget:Microsoft.ML.TimeSeries\""
   ]
  },
  {
   "cell_type": "code",
   "execution_count": null,
   "metadata": {
    "polyglot_notebook": {
     "kernelName": "csharp"
    },
    "vscode": {
     "languageId": "polyglot-notebook"
    }
   },
   "outputs": [],
   "source": [
    "using Microsoft.ML;\n",
    "using Microsoft.ML.Data;\n",
    "using Microsoft.ML.TimeSeries;"
   ]
  },
  {
   "cell_type": "code",
   "execution_count": 3,
   "metadata": {
    "polyglot_notebook": {
     "kernelName": "csharp"
    },
    "vscode": {
     "languageId": "polyglot-notebook"
    }
   },
   "outputs": [],
   "source": [
    "public class AnomalyPrediction\n",
    "{\n",
    "    [VectorType(3)]\n",
    "    public double[] Prediction { get; set; }\n",
    "}\n",
    "\n",
    "public class EventLogsCountAnomaly\n",
    "{\n",
    "    [LoadColumn(0)]\n",
    "    public DateTime TimeStamp { get; set; } // Nullable DateOnly property\n",
    "    [LoadColumn(1)]\n",
    "    public float Value { get; set; } // Count property\n",
    "}"
   ]
  },
  {
   "cell_type": "code",
   "execution_count": 4,
   "metadata": {
    "polyglot_notebook": {
     "kernelName": "csharp"
    },
    "vscode": {
     "languageId": "polyglot-notebook"
    }
   },
   "outputs": [],
   "source": [
    "var preprocessedData = new List<EventLogsCountAnomaly>\n",
    "{\n",
    "    new EventLogsCountAnomaly { TimeStamp = DateTime.Now.AddDays(-1), Value = 1200 },\n",
    "    new EventLogsCountAnomaly { TimeStamp = DateTime.Now.AddDays(-2), Value = 1500 },\n",
    "    new EventLogsCountAnomaly { TimeStamp = DateTime.Now.AddDays(-3), Value = 2000 },\n",
    "    new EventLogsCountAnomaly { TimeStamp = DateTime.Now.AddDays(-4), Value = 1200 },\n",
    "    new EventLogsCountAnomaly { TimeStamp = DateTime.Now.AddDays(-5), Value = 2000 },\n",
    "    new EventLogsCountAnomaly { TimeStamp = DateTime.Now.AddDays(-6), Value = 800 },\n",
    "    new EventLogsCountAnomaly { TimeStamp = DateTime.Now.AddDays(-7), Value = 300 },\n",
    "    new EventLogsCountAnomaly { TimeStamp = DateTime.Now.AddDays(-8), Value = 20 },\n",
    "    new EventLogsCountAnomaly { TimeStamp = DateTime.Now.AddDays(-9), Value = 4000 },\n",
    "    new EventLogsCountAnomaly { TimeStamp = DateTime.Now.AddDays(-10), Value = 1500 },\n",
    "    new EventLogsCountAnomaly { TimeStamp = DateTime.Now.AddDays(-11), Value = 1400 },\n",
    "    new EventLogsCountAnomaly { TimeStamp = DateTime.Now.AddDays(-12), Value = 800 },\n",
    "    new EventLogsCountAnomaly { TimeStamp = DateTime.Now.AddDays(-13), Value = 200 },\n",
    "    new EventLogsCountAnomaly { TimeStamp = DateTime.Now.AddDays(-14), Value = 11400 },\n",
    "    new EventLogsCountAnomaly { TimeStamp = DateTime.Now.AddDays(-15), Value = 1600 },\n",
    "    new EventLogsCountAnomaly { TimeStamp = DateTime.Now.AddDays(-16), Value = 2200 },\n",
    "    new EventLogsCountAnomaly { TimeStamp = DateTime.Now.AddDays(-17), Value = 2400 },\n",
    "    new EventLogsCountAnomaly { TimeStamp = DateTime.Now.AddDays(-18), Value = 300 },\n",
    "    new EventLogsCountAnomaly { TimeStamp = DateTime.Now.AddDays(-19), Value = 900 },\n",
    "    new EventLogsCountAnomaly { TimeStamp = DateTime.Now.AddDays(-20), Value = 1400 }\n",
    "};"
   ]
  },
  {
   "cell_type": "code",
   "execution_count": 34,
   "metadata": {
    "polyglot_notebook": {
     "kernelName": "csharp"
    },
    "vscode": {
     "languageId": "polyglot-notebook"
    }
   },
   "outputs": [
    {
     "name": "stdout",
     "output_type": "stream",
     "text": [
      "Time            tValue  Anomaly\n",
      "3/14/2025\t1200\tFalse\n",
      "3/13/2025\t1500\tFalse\n",
      "3/12/2025\t2000\tFalse\n",
      "3/11/2025\t1200\tFalse\n",
      "3/10/2025\t2000\tFalse\n",
      "3/9/2025\t800\tFalse\n",
      "3/8/2025\t300\tFalse\n",
      "3/7/2025\t20\tFalse\n",
      "3/6/2025\t4000\tTrue\n",
      "3/5/2025\t1500\tFalse\n",
      "3/4/2025\t1400\tFalse\n",
      "3/3/2025\t800\tFalse\n",
      "3/2/2025\t200\tFalse\n",
      "3/1/2025\t11400\tTrue\n",
      "2/28/2025\t1600\tFalse\n",
      "2/27/2025\t2200\tFalse\n",
      "2/26/2025\t2400\tFalse\n",
      "2/25/2025\t300\tFalse\n",
      "2/24/2025\t900\tFalse\n",
      "2/23/2025\t1400\tFalse\n",
      "3/14/2025\t-218.6246337890625\t0.5\n",
      "3/13/2025\t121.46533203125\t1E-08\n",
      "3/12/2025\t637.060302734375\t0.0006072842522107935\n",
      "3/11/2025\t-210.111572265625\t0.23020433413886088\n",
      "3/10/2025\t588.001220703125\t0.16687442411745346\n",
      "3/9/2025\t-673.347900390625\t0.0466676693988578\n",
      "3/8/2025\t-1167.231689453125\t0.03801085109784952\n",
      "3/7/2025\t-1320.1378173828125\t0.13126578055792515\n",
      "3/6/2025\t2919.8409423828125\t7.69350245974354E-05\n",
      "3/5/2025\t290.0047607421875\t0.42574355705990735\n",
      "3/4/2025\t171.63330078125\t0.43000990600955347\n",
      "3/3/2025\t-513.509521484375\t0.4010561186557473\n",
      "3/2/2025\t-1231.4078369140625\t0.22789852917080322\n",
      "3/1/2025\t9911.981323242188\t6.59376760969721E-08\n",
      "2/28/2025\t-643.3828125\t0.37634245169619374\n",
      "2/27/2025\t-442.208740234375\t0.4098314492718962\n",
      "2/26/2025\t-534.42919921875\t0.41433977261856736\n",
      "2/25/2025\t-2979.71142578125\t0.2384342139839113\n",
      "2/24/2025\t-2487.62548828125\t0.30935740559266256\n",
      "2/23/2025\t-995.285888671875\t0.4208943920053899\n"
     ]
    }
   ],
   "source": [
    "var context = new MLContext();\n",
    "var dataView = context.Data.LoadFromEnumerable(preprocessedData);\n",
    "\n",
    "var pipeline = context.Transforms.DetectSpikeBySsa(\n",
    "    outputColumnName: nameof(AnomalyPrediction.Prediction),\n",
    "    inputColumnName: nameof(EventLogsCountAnomaly.Value),\n",
    "    confidence: 99.0,\n",
    "    pvalueHistoryLength: preprocessedData.Count / 4,\n",
    "    trainingWindowSize: preprocessedData.Count,\n",
    "    seasonalityWindowSize: preprocessedData.Count / 4);\n",
    "\n",
    "var model = pipeline.Fit(dataView);\n",
    "var transformedData = model.Transform(dataView);\n",
    "\n",
    "var predictions = context.Data.CreateEnumerable<AnomalyPrediction>(transformedData, reuseRowObject: false).ToList();\n",
    "\n",
    "Console.WriteLine(\"Time            tValue  Anomaly\");\n",
    "for (int i = 0; i < predictions.Count; i++)\n",
    "{\n",
    "    Console.WriteLine($\"{DateOnly.FromDateTime(preprocessedData[i].TimeStamp)}\\t{preprocessedData[i].Value}\\t{predictions[i].Prediction[0] == 1}\");\n",
    "}\n",
    "\n",
    "// Console.WriteLine(\"Time            tValue  Anomaly\");\n",
    "for (int i = 0; i < predictions.Count; i++)\n",
    "{\n",
    "    Console.WriteLine($\"{DateOnly.FromDateTime(preprocessedData[i].TimeStamp)}\\t{predictions[i].Prediction[1]}\\t{predictions[i].Prediction[2]}\");\n",
    "}\n",
    "    "
   ]
  }
 ],
 "metadata": {
  "kernelspec": {
   "display_name": ".NET (C#)",
   "language": "C#",
   "name": ".net-csharp"
  },
  "language_info": {
   "name": "csharp"
  },
  "polyglot_notebook": {
   "kernelInfo": {
    "defaultKernelName": "csharp",
    "items": [
     {
      "aliases": [],
      "name": "csharp"
     }
    ]
   }
  }
 },
 "nbformat": 4,
 "nbformat_minor": 2
}
