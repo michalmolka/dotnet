{
 "cells": [
  {
   "cell_type": "code",
   "execution_count": 4,
   "metadata": {
    "dotnet_interactive": {
     "language": "csharp"
    },
    "polyglot_notebook": {
     "kernelName": "csharp"
    },
    "vscode": {
     "languageId": "polyglot-notebook"
    }
   },
   "outputs": [],
   "source": [
    "#!fsharp\n",
    "let number01 = 15"
   ]
  },
  {
   "cell_type": "code",
   "execution_count": 5,
   "metadata": {
    "vscode": {
     "languageId": "polyglot-notebook"
    }
   },
   "outputs": [],
   "source": [
    "#!csharp\n",
    "int number02 = 25;"
   ]
  },
  {
   "cell_type": "code",
   "execution_count": 6,
   "metadata": {
    "vscode": {
     "languageId": "polyglot-notebook"
    }
   },
   "outputs": [
    {
     "name": "stdout",
     "output_type": "stream",
     "text": [
      "40\r\n"
     ]
    }
   ],
   "source": [
    "#!set --value @fsharp:number01 --name number01\n",
    "#!csharp\n",
    "\n",
    "int SumFunction(int a, int b){\n",
    "    return a + b;\n",
    "}\n",
    "\n",
    "int numbers01 = SumFunction(Convert.ToInt32(number01), number02);\n",
    "Console.WriteLine(numbers01)"
   ]
  },
  {
   "cell_type": "code",
   "execution_count": 7,
   "metadata": {
    "vscode": {
     "languageId": "polyglot-notebook"
    }
   },
   "outputs": [],
   "source": [
    "#!fsharp\n",
    "#!set --value @csharp:number02 --name number02\n",
    "#!set --value @csharp:numbers01 --name numbers01\n",
    "\n",
    "type ClassA(n01:int, n02:int) =\n",
    "    member this.n01 = n01 //immutable\n",
    "    member this.n02 = n02\n",
    "    \n",
    "    member this.numbersAdd =\n",
    "        this.n01 + this.n02\n",
    "\n",
    "let classA = ClassA(number01, Convert.ToInt32(number02))\n",
    "\n",
    "let numbers02 = classA.numbersAdd + Convert.ToInt32(numbers01)"
   ]
  },
  {
   "cell_type": "code",
   "execution_count": 8,
   "metadata": {
    "vscode": {
     "languageId": "polyglot-notebook"
    }
   },
   "outputs": [],
   "source": [
    "#!csharp\n",
    "#!set --value @fsharp:numbers02 --name numbers02\n",
    "\n",
    "public class ClassB(){\n",
    "    int number03 = 55;\n",
    "\n",
    "    public int numbers02(int n01, int n02){\n",
    "        int sumNumbers = n01 + n02 + number03;\n",
    "        return sumNumbers;\n",
    "    }\n",
    "}\n",
    "\n",
    "ClassB classB = new ClassB();\n",
    "int numbers03 = classB.numbers02(Convert.ToInt32(number01), number02);"
   ]
  },
  {
   "cell_type": "code",
   "execution_count": 9,
   "metadata": {
    "dotnet_interactive": {
     "language": "csharp"
    },
    "polyglot_notebook": {
     "kernelName": "csharp"
    },
    "vscode": {
     "languageId": "polyglot-notebook"
    }
   },
   "outputs": [
    {
     "name": "stdout",
     "output_type": "stream",
     "text": [
      "95\r\n"
     ]
    }
   ],
   "source": [
    "#!csharp\n",
    "Console.WriteLine(numbers03)"
   ]
  },
  {
   "cell_type": "code",
   "execution_count": 2,
   "metadata": {
    "vscode": {
     "languageId": "polyglot-notebook"
    }
   },
   "outputs": [
    {
     "data": {
      "text/html": [
       "<div><div></div><div></div><div><strong>Installed Packages</strong><ul><li><span>Microsoft.Data.SqlClient, 5.2.1</span></li></ul></div></div>"
      ]
     },
     "metadata": {},
     "output_type": "display_data"
    }
   ],
   "source": [
    "#r \"nuget: Microsoft.Data.SqlClient\""
   ]
  },
  {
   "cell_type": "code",
   "execution_count": 3,
   "metadata": {
    "vscode": {
     "languageId": "polyglot-notebook"
    }
   },
   "outputs": [],
   "source": [
    "using Microsoft.Data.SqlClient;"
   ]
  }
 ],
 "metadata": {
  "kernelspec": {
   "display_name": ".NET (C#)",
   "language": "C#",
   "name": ".net-csharp"
  },
  "language_info": {
   "name": "csharp"
  },
  "polyglot_notebook": {
   "kernelInfo": {
    "defaultKernelName": "csharp",
    "items": [
     {
      "aliases": [],
      "name": "csharp"
     }
    ]
   }
  }
 },
 "nbformat": 4,
 "nbformat_minor": 2
}
